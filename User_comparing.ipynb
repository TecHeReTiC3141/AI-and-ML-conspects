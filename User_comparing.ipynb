{
  "nbformat": 4,
  "nbformat_minor": 0,
  "metadata": {
    "colab": {
      "name": "User_comparing.ipynb",
      "provenance": [],
      "collapsed_sections": [],
      "authorship_tag": "ABX9TyOA0B3F1U2fhTLABmWowYm2",
      "include_colab_link": true
    },
    "kernelspec": {
      "name": "python3",
      "display_name": "Python 3"
    },
    "language_info": {
      "name": "python"
    }
  },
  "cells": [
    {
      "cell_type": "markdown",
      "metadata": {
        "id": "view-in-github",
        "colab_type": "text"
      },
      "source": [
        "<a href=\"https://colab.research.google.com/github/TecHeReTiC3141/AI-and-ML-conspects/blob/main/User_comparing.ipynb\" target=\"_parent\"><img src=\"https://colab.research.google.com/assets/colab-badge.svg\" alt=\"Open In Colab\"/></a>"
      ]
    },
    {
      "cell_type": "code",
      "metadata": {
        "id": "2K6IcI--LZ8C"
      },
      "source": [
        "import torch\n",
        "import torch.nn as nn\n",
        "import torch.functional as F"
      ],
      "execution_count": null,
      "outputs": []
    },
    {
      "cell_type": "markdown",
      "metadata": {
        "id": "biDhiLjbxowv"
      },
      "source": [
        "# Класс пользователя и метод сравнения\n",
        "\n"
      ]
    },
    {
      "cell_type": "code",
      "metadata": {
        "id": "zFYYaAIzL_V2"
      },
      "source": [
        "class User:\n",
        "\n",
        "  def __init__(self, id, name, surname, age, gender, *, city=None, country=None, career=None, army_service=None, \n",
        "               higher_education=None, family=None, attitude_to_alcohol=None, attitude_to_smoking=None, languages=None, \n",
        "               main_in_life=None, main_in_people=None, occupation=None, friends=None):\n",
        "    self.id = id\n",
        "    self.name = name\n",
        "    self.surname = surname\n",
        "    self.gender = gender\n",
        "    self.age = age\n",
        "    self.city = city\n",
        "    self.country = country\n",
        "    self.career = career\n",
        "    self.army_service = army_service\n",
        "    self.higher_education = higher_education\n",
        "    self.family = family\n",
        "    self.attitude_to_alcohol = attitude_to_alcohol\n",
        "    self.attitude_to_smoking = attitude_to_smoking\n",
        "    self.languages = languages\n",
        "    self.main_in_life = main_in_life\n",
        "    self.main_in_people = main_in_people\n",
        "    self.occupation = occupation\n",
        "    self.friends = friends\n",
        "  def __str__(self):\n",
        "    return f'Пользователь №{self.id}:\\nИмя - {self.name}, Фамилия - {self.surname}.\\nВозраст: {self.age}\\nПол: {self.gender}'\n",
        "  \n",
        "  def compare(other_user):\n",
        "    pass\n"
      ],
      "execution_count": null,
      "outputs": []
    },
    {
      "cell_type": "markdown",
      "metadata": {
        "id": "AUWxek180pF7"
      },
      "source": [
        "# Слой-сумматор"
      ]
    },
    {
      "cell_type": "code",
      "metadata": {
        "id": "a6ncx2x1z9Pa"
      },
      "source": [
        "class User_cmp(nn.Module):\n",
        "\n",
        "  def __init__(self):\n",
        "    super().__init__()\n",
        "    self.cmp = User.compare\n",
        "  \n",
        "  def forward(x):\n",
        "    return self.cmp(x)\n"
      ],
      "execution_count": null,
      "outputs": []
    },
    {
      "cell_type": "code",
      "metadata": {
        "colab": {
          "base_uri": "https://localhost:8080/"
        },
        "id": "uRPED2qdMD0N",
        "outputId": "16b1923c-9f7f-4676-c251-268cbc0281a2"
      },
      "source": [
        "user_1 = User(1, 'Tec', \"HeReTiC\", 16, \"M\")\n",
        "print(str(user_1))"
      ],
      "execution_count": null,
      "outputs": [
        {
          "output_type": "stream",
          "name": "stdout",
          "text": [
            "Пользователь №1:\n",
            "Имя - Tec, Фамилия - HeReTiC.\n",
            "Возраст: 16\n",
            "Пол: M\n"
          ]
        }
      ]
    },
    {
      "cell_type": "code",
      "metadata": {
        "colab": {
          "base_uri": "https://localhost:8080/"
        },
        "id": "XRPrsfXr03x1",
        "outputId": "b225965a-40b6-4cdb-c15b-ff5f560c7845"
      },
      "source": [
        "user_comparator = User_cmp()\n",
        "user_comparator.cmp"
      ],
      "execution_count": null,
      "outputs": [
        {
          "output_type": "execute_result",
          "data": {
            "text/plain": [
              "<function __main__.User.compare>"
            ]
          },
          "metadata": {},
          "execution_count": 32
        }
      ]
    }
  ]
}